{
 "cells": [
  {
   "cell_type": "code",
   "execution_count": 11,
   "metadata": {},
   "outputs": [
    {
     "name": "stdout",
     "output_type": "stream",
     "text": [
      "Hello\n",
      " \n",
      " World!\n"
     ]
    }
   ],
   "source": [
    "#print(\"hola mundo esta es mi primera tarea \")     \n",
    "#Aqui es mi primera tarea \n",
    "print(\"Hello\\n \\n World!\") \n"
   ]
  },
  {
   "cell_type": "code",
   "execution_count": 14,
   "metadata": {},
   "outputs": [
    {
     "name": "stdout",
     "output_type": "stream",
     "text": [
      "Esta es mi primera prueba \n",
      " Hector Montañez \n"
     ]
    }
   ],
   "source": [
    "print(\"Esta es mi primera prueba \\n Hector Montañez \")"
   ]
  },
  {
   "cell_type": "code",
   "execution_count": 27,
   "metadata": {},
   "outputs": [
    {
     "name": "stdout",
     "output_type": "stream",
     "text": [
      "2.0\n",
      "1\n",
      "2.0\n"
     ]
    },
    {
     "data": {
      "text/plain": [
       "True"
      ]
     },
     "execution_count": 27,
     "metadata": {},
     "output_type": "execute_result"
    }
   ],
   "source": [
    "print (float(2))\n",
    "print(int(1.1))\n",
    "print (float(2))\n",
    "bool(1)"
   ]
  },
  {
   "cell_type": "code",
   "execution_count": 33,
   "metadata": {},
   "outputs": [
    {
     "name": "stdout",
     "output_type": "stream",
     "text": [
      "1\n"
     ]
    },
    {
     "data": {
      "text/plain": [
       "35"
      ]
     },
     "execution_count": 33,
     "metadata": {},
     "output_type": "execute_result"
    }
   ],
   "source": [
    "from re import X\n",
    "\n",
    "\n",
    "my_variable=1\n",
    "print(my_variable)\n",
    "my_variable\n",
    "x=34+my_variable\n",
    "x\n"
   ]
  },
  {
   "cell_type": "code",
   "execution_count": 72,
   "metadata": {},
   "outputs": [
    {
     "name": "stdout",
     "output_type": "stream",
     "text": [
      "15\n",
      "Michael Jackson Es el mejor\n",
      "MICHAEL JACKSON\n",
      "michael jackson\n"
     ]
    },
    {
     "data": {
      "text/plain": [
       "8"
      ]
     },
     "execution_count": 72,
     "metadata": {},
     "output_type": "execute_result"
    }
   ],
   "source": [
    "Name=\"Michael Jackson\"\n",
    "x1=len(Name)\n",
    "\n",
    "print(x1)\n",
    "Name[0:9]\n",
    "Name2 = Name + \" Es el mejor\" #Unir dos strings\n",
    "print(Name2)\n",
    "B=Name.upper() #Hacerlo Mayusculas \n",
    "print(B)\n",
    "C=Name.lower()  #Hcerla Minúsculas \n",
    "print(C)\n",
    "Name.find(\"Jac\")"
   ]
  },
  {
   "cell_type": "code",
   "execution_count": 78,
   "metadata": {},
   "outputs": [
    {
     "name": "stdout",
     "output_type": "stream",
     "text": [
      "Hector\n",
      "10\n",
      "1.2\n",
      "Hector\n",
      "1.2\n",
      "10\n"
     ]
    },
    {
     "data": {
      "text/plain": [
       "'Que tal'"
      ]
     },
     "execution_count": 78,
     "metadata": {},
     "output_type": "execute_result"
    }
   ],
   "source": [
    "\n",
    "tuple1=(\"Hector\",10,1.2)\n",
    "print(tuple1[0])\n",
    "print(tuple1[1])\n",
    "print(tuple1[2])\n",
    "print(tuple1[0])\n",
    "print(tuple1[-1])\n",
    "print(tuple1[-2])\n",
    "len(tuple1)\n",
    "\n",
    "L=[\"Que tal\",34.2,1]\n",
    "L[0]\n",
    "\n",
    "\n"
   ]
  },
  {
   "cell_type": "code",
   "execution_count": null,
   "metadata": {},
   "outputs": [],
   "source": [
    "set1={}"
   ]
  }
 ],
 "metadata": {
  "kernelspec": {
   "display_name": "Python 3.9.10 64-bit",
   "language": "python",
   "name": "python3"
  },
  "language_info": {
   "codemirror_mode": {
    "name": "ipython",
    "version": 3
   },
   "file_extension": ".py",
   "mimetype": "text/x-python",
   "name": "python",
   "nbconvert_exporter": "python",
   "pygments_lexer": "ipython3",
   "version": "3.9.10"
  },
  "orig_nbformat": 4,
  "vscode": {
   "interpreter": {
    "hash": "aee8b7b246df8f9039afb4144a1f6fd8d2ca17a180786b69acc140d282b71a49"
   }
  }
 },
 "nbformat": 4,
 "nbformat_minor": 2
}
