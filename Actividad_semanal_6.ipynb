{
  "nbformat": 4,
  "nbformat_minor": 0,
  "metadata": {
    "colab": {
      "provenance": [],
      "authorship_tag": "ABX9TyOBDib2aww0ZY9Yp7zZ1qqP",
      "include_colab_link": true
    },
    "kernelspec": {
      "name": "python3",
      "display_name": "Python 3"
    },
    "language_info": {
      "name": "python"
    }
  },
  "cells": [
    {
      "cell_type": "markdown",
      "metadata": {
        "id": "view-in-github",
        "colab_type": "text"
      },
      "source": [
        "<a href=\"https://colab.research.google.com/github/PosgradoMNA/actividades-de-aprendizaje-torhec1234/blob/main/Actividad_semanal_6.ipynb\" target=\"_parent\"><img src=\"https://colab.research.google.com/assets/colab-badge.svg\" alt=\"Open In Colab\"/></a>"
      ]
    },
    {
      "cell_type": "code",
      "execution_count": 155,
      "metadata": {
        "id": "biJ0XDMPgluM"
      },
      "outputs": [],
      "source": [
        "#Importamos las librerias para el ejercicio \n",
        "\n",
        "import numpy as np \n",
        "import pandas as pd\n",
        "import seaborn as sns\n",
        "import matplotlib.pyplot as plt\n",
        "from sklearn.preprocessing import FunctionTransformer, PowerTransformer\n",
        "from sklearn.preprocessing import power_transform\n",
        "from sklearn.model_selection import train_test_split, GridSearchCV\n",
        "from sklearn.pipeline import Pipeline\n",
        "from sklearn.compose import ColumnTransformer\n",
        "from sklearn.impute import SimpleImputer\n",
        "from sklearn.preprocessing import MinMaxScaler, OneHotEncoder, StandardScaler\n",
        "from sklearn.model_selection import cross_validate, learning_curve, validation_curve\n",
        "from sklearn.model_selection import RepeatedStratifiedKFold\n",
        "from sklearn.metrics import confusion_matrix, make_scorer\n",
        "from sklearn.dummy import DummyRegressor\n",
        "from sklearn.linear_model import LinearRegression\n",
        "from sklearn.ensemble import RandomForestRegressor\n",
        "from sklearn.neural_network import MLPRegressor\n",
        "from sklearn.model_selection import RepeatedKFold\n",
        "from sklearn import metrics\n",
        "from math import isnan\n",
        "from sklearn.preprocessing import FunctionTransformer, PowerTransformer\n",
        "from sklearn.preprocessing import power_transform\n",
        "from sklearn.preprocessing import MinMaxScaler"
      ]
    },
    {
      "cell_type": "markdown",
      "source": [
        "# 1) Descarga los datosEnlaces a un sitio externo. y carga el dataset en tu libreta. Descripción aquí. "
      ],
      "metadata": {
        "id": "Gn17ZzEuhowX"
      }
    },
    {
      "cell_type": "code",
      "source": [
        "path = 'https://raw.githubusercontent.com/PosgradoMNA/Actividades_Aprendizaje-/main/default%20of%20credit%20card%20clients.csv' \n",
        "\n",
        "df = pd.read_csv(path , sep = ',' )\n",
        "df.head()"
      ],
      "metadata": {
        "colab": {
          "base_uri": "https://localhost:8080/",
          "height": 233
        },
        "id": "17Fl2QsJg70z",
        "outputId": "663ca88c-5934-42c8-ba41-c8df27f6eaf2"
      },
      "execution_count": 91,
      "outputs": [
        {
          "output_type": "execute_result",
          "data": {
            "text/plain": [
              "   ID      X1   X2   X3   X4    X5   X6   X7   X8   X9  ...      X15      X16  \\\n",
              "0   1   20000  2.0  2.0  1.0  24.0  2.0  2.0 -1.0 -1.0  ...      0.0      0.0   \n",
              "1   2  120000  2.0  2.0  2.0  26.0 -1.0  2.0  0.0  0.0  ...   3272.0   3455.0   \n",
              "2   3   90000  2.0  2.0  2.0  34.0  0.0  0.0  0.0  0.0  ...  14331.0  14948.0   \n",
              "3   4   50000  2.0  2.0  1.0  37.0  0.0  0.0  0.0  0.0  ...  28314.0  28959.0   \n",
              "4   5   50000  1.0  2.0  1.0  57.0 -1.0  0.0 -1.0  0.0  ...  20940.0  19146.0   \n",
              "\n",
              "       X17     X18      X19      X20     X21     X22     X23    Y  \n",
              "0      0.0     0.0    689.0      0.0     0.0     0.0     0.0  1.0  \n",
              "1   3261.0     0.0   1000.0   1000.0  1000.0     0.0  2000.0  1.0  \n",
              "2  15549.0  1518.0   1500.0   1000.0  1000.0  1000.0  5000.0  0.0  \n",
              "3  29547.0  2000.0   2019.0   1200.0  1100.0  1069.0  1000.0  0.0  \n",
              "4  19131.0  2000.0  36681.0  10000.0  9000.0   689.0   679.0  0.0  \n",
              "\n",
              "[5 rows x 25 columns]"
            ],
            "text/html": [
              "\n",
              "  <div id=\"df-cad96e6e-8dfc-4910-a75a-a1442ec21d3a\">\n",
              "    <div class=\"colab-df-container\">\n",
              "      <div>\n",
              "<style scoped>\n",
              "    .dataframe tbody tr th:only-of-type {\n",
              "        vertical-align: middle;\n",
              "    }\n",
              "\n",
              "    .dataframe tbody tr th {\n",
              "        vertical-align: top;\n",
              "    }\n",
              "\n",
              "    .dataframe thead th {\n",
              "        text-align: right;\n",
              "    }\n",
              "</style>\n",
              "<table border=\"1\" class=\"dataframe\">\n",
              "  <thead>\n",
              "    <tr style=\"text-align: right;\">\n",
              "      <th></th>\n",
              "      <th>ID</th>\n",
              "      <th>X1</th>\n",
              "      <th>X2</th>\n",
              "      <th>X3</th>\n",
              "      <th>X4</th>\n",
              "      <th>X5</th>\n",
              "      <th>X6</th>\n",
              "      <th>X7</th>\n",
              "      <th>X8</th>\n",
              "      <th>X9</th>\n",
              "      <th>...</th>\n",
              "      <th>X15</th>\n",
              "      <th>X16</th>\n",
              "      <th>X17</th>\n",
              "      <th>X18</th>\n",
              "      <th>X19</th>\n",
              "      <th>X20</th>\n",
              "      <th>X21</th>\n",
              "      <th>X22</th>\n",
              "      <th>X23</th>\n",
              "      <th>Y</th>\n",
              "    </tr>\n",
              "  </thead>\n",
              "  <tbody>\n",
              "    <tr>\n",
              "      <th>0</th>\n",
              "      <td>1</td>\n",
              "      <td>20000</td>\n",
              "      <td>2.0</td>\n",
              "      <td>2.0</td>\n",
              "      <td>1.0</td>\n",
              "      <td>24.0</td>\n",
              "      <td>2.0</td>\n",
              "      <td>2.0</td>\n",
              "      <td>-1.0</td>\n",
              "      <td>-1.0</td>\n",
              "      <td>...</td>\n",
              "      <td>0.0</td>\n",
              "      <td>0.0</td>\n",
              "      <td>0.0</td>\n",
              "      <td>0.0</td>\n",
              "      <td>689.0</td>\n",
              "      <td>0.0</td>\n",
              "      <td>0.0</td>\n",
              "      <td>0.0</td>\n",
              "      <td>0.0</td>\n",
              "      <td>1.0</td>\n",
              "    </tr>\n",
              "    <tr>\n",
              "      <th>1</th>\n",
              "      <td>2</td>\n",
              "      <td>120000</td>\n",
              "      <td>2.0</td>\n",
              "      <td>2.0</td>\n",
              "      <td>2.0</td>\n",
              "      <td>26.0</td>\n",
              "      <td>-1.0</td>\n",
              "      <td>2.0</td>\n",
              "      <td>0.0</td>\n",
              "      <td>0.0</td>\n",
              "      <td>...</td>\n",
              "      <td>3272.0</td>\n",
              "      <td>3455.0</td>\n",
              "      <td>3261.0</td>\n",
              "      <td>0.0</td>\n",
              "      <td>1000.0</td>\n",
              "      <td>1000.0</td>\n",
              "      <td>1000.0</td>\n",
              "      <td>0.0</td>\n",
              "      <td>2000.0</td>\n",
              "      <td>1.0</td>\n",
              "    </tr>\n",
              "    <tr>\n",
              "      <th>2</th>\n",
              "      <td>3</td>\n",
              "      <td>90000</td>\n",
              "      <td>2.0</td>\n",
              "      <td>2.0</td>\n",
              "      <td>2.0</td>\n",
              "      <td>34.0</td>\n",
              "      <td>0.0</td>\n",
              "      <td>0.0</td>\n",
              "      <td>0.0</td>\n",
              "      <td>0.0</td>\n",
              "      <td>...</td>\n",
              "      <td>14331.0</td>\n",
              "      <td>14948.0</td>\n",
              "      <td>15549.0</td>\n",
              "      <td>1518.0</td>\n",
              "      <td>1500.0</td>\n",
              "      <td>1000.0</td>\n",
              "      <td>1000.0</td>\n",
              "      <td>1000.0</td>\n",
              "      <td>5000.0</td>\n",
              "      <td>0.0</td>\n",
              "    </tr>\n",
              "    <tr>\n",
              "      <th>3</th>\n",
              "      <td>4</td>\n",
              "      <td>50000</td>\n",
              "      <td>2.0</td>\n",
              "      <td>2.0</td>\n",
              "      <td>1.0</td>\n",
              "      <td>37.0</td>\n",
              "      <td>0.0</td>\n",
              "      <td>0.0</td>\n",
              "      <td>0.0</td>\n",
              "      <td>0.0</td>\n",
              "      <td>...</td>\n",
              "      <td>28314.0</td>\n",
              "      <td>28959.0</td>\n",
              "      <td>29547.0</td>\n",
              "      <td>2000.0</td>\n",
              "      <td>2019.0</td>\n",
              "      <td>1200.0</td>\n",
              "      <td>1100.0</td>\n",
              "      <td>1069.0</td>\n",
              "      <td>1000.0</td>\n",
              "      <td>0.0</td>\n",
              "    </tr>\n",
              "    <tr>\n",
              "      <th>4</th>\n",
              "      <td>5</td>\n",
              "      <td>50000</td>\n",
              "      <td>1.0</td>\n",
              "      <td>2.0</td>\n",
              "      <td>1.0</td>\n",
              "      <td>57.0</td>\n",
              "      <td>-1.0</td>\n",
              "      <td>0.0</td>\n",
              "      <td>-1.0</td>\n",
              "      <td>0.0</td>\n",
              "      <td>...</td>\n",
              "      <td>20940.0</td>\n",
              "      <td>19146.0</td>\n",
              "      <td>19131.0</td>\n",
              "      <td>2000.0</td>\n",
              "      <td>36681.0</td>\n",
              "      <td>10000.0</td>\n",
              "      <td>9000.0</td>\n",
              "      <td>689.0</td>\n",
              "      <td>679.0</td>\n",
              "      <td>0.0</td>\n",
              "    </tr>\n",
              "  </tbody>\n",
              "</table>\n",
              "<p>5 rows × 25 columns</p>\n",
              "</div>\n",
              "      <button class=\"colab-df-convert\" onclick=\"convertToInteractive('df-cad96e6e-8dfc-4910-a75a-a1442ec21d3a')\"\n",
              "              title=\"Convert this dataframe to an interactive table.\"\n",
              "              style=\"display:none;\">\n",
              "        \n",
              "  <svg xmlns=\"http://www.w3.org/2000/svg\" height=\"24px\"viewBox=\"0 0 24 24\"\n",
              "       width=\"24px\">\n",
              "    <path d=\"M0 0h24v24H0V0z\" fill=\"none\"/>\n",
              "    <path d=\"M18.56 5.44l.94 2.06.94-2.06 2.06-.94-2.06-.94-.94-2.06-.94 2.06-2.06.94zm-11 1L8.5 8.5l.94-2.06 2.06-.94-2.06-.94L8.5 2.5l-.94 2.06-2.06.94zm10 10l.94 2.06.94-2.06 2.06-.94-2.06-.94-.94-2.06-.94 2.06-2.06.94z\"/><path d=\"M17.41 7.96l-1.37-1.37c-.4-.4-.92-.59-1.43-.59-.52 0-1.04.2-1.43.59L10.3 9.45l-7.72 7.72c-.78.78-.78 2.05 0 2.83L4 21.41c.39.39.9.59 1.41.59.51 0 1.02-.2 1.41-.59l7.78-7.78 2.81-2.81c.8-.78.8-2.07 0-2.86zM5.41 20L4 18.59l7.72-7.72 1.47 1.35L5.41 20z\"/>\n",
              "  </svg>\n",
              "      </button>\n",
              "      \n",
              "  <style>\n",
              "    .colab-df-container {\n",
              "      display:flex;\n",
              "      flex-wrap:wrap;\n",
              "      gap: 12px;\n",
              "    }\n",
              "\n",
              "    .colab-df-convert {\n",
              "      background-color: #E8F0FE;\n",
              "      border: none;\n",
              "      border-radius: 50%;\n",
              "      cursor: pointer;\n",
              "      display: none;\n",
              "      fill: #1967D2;\n",
              "      height: 32px;\n",
              "      padding: 0 0 0 0;\n",
              "      width: 32px;\n",
              "    }\n",
              "\n",
              "    .colab-df-convert:hover {\n",
              "      background-color: #E2EBFA;\n",
              "      box-shadow: 0px 1px 2px rgba(60, 64, 67, 0.3), 0px 1px 3px 1px rgba(60, 64, 67, 0.15);\n",
              "      fill: #174EA6;\n",
              "    }\n",
              "\n",
              "    [theme=dark] .colab-df-convert {\n",
              "      background-color: #3B4455;\n",
              "      fill: #D2E3FC;\n",
              "    }\n",
              "\n",
              "    [theme=dark] .colab-df-convert:hover {\n",
              "      background-color: #434B5C;\n",
              "      box-shadow: 0px 1px 3px 1px rgba(0, 0, 0, 0.15);\n",
              "      filter: drop-shadow(0px 1px 2px rgba(0, 0, 0, 0.3));\n",
              "      fill: #FFFFFF;\n",
              "    }\n",
              "  </style>\n",
              "\n",
              "      <script>\n",
              "        const buttonEl =\n",
              "          document.querySelector('#df-cad96e6e-8dfc-4910-a75a-a1442ec21d3a button.colab-df-convert');\n",
              "        buttonEl.style.display =\n",
              "          google.colab.kernel.accessAllowed ? 'block' : 'none';\n",
              "\n",
              "        async function convertToInteractive(key) {\n",
              "          const element = document.querySelector('#df-cad96e6e-8dfc-4910-a75a-a1442ec21d3a');\n",
              "          const dataTable =\n",
              "            await google.colab.kernel.invokeFunction('convertToInteractive',\n",
              "                                                     [key], {});\n",
              "          if (!dataTable) return;\n",
              "\n",
              "          const docLinkHtml = 'Like what you see? Visit the ' +\n",
              "            '<a target=\"_blank\" href=https://colab.research.google.com/notebooks/data_table.ipynb>data table notebook</a>'\n",
              "            + ' to learn more about interactive tables.';\n",
              "          element.innerHTML = '';\n",
              "          dataTable['output_type'] = 'display_data';\n",
              "          await google.colab.output.renderOutput(dataTable, element);\n",
              "          const docLink = document.createElement('div');\n",
              "          docLink.innerHTML = docLinkHtml;\n",
              "          element.appendChild(docLink);\n",
              "        }\n",
              "      </script>\n",
              "    </div>\n",
              "  </div>\n",
              "  "
            ]
          },
          "metadata": {},
          "execution_count": 91
        }
      ]
    },
    {
      "cell_type": "markdown",
      "source": [
        "# 2) Obten la información del DataFrame con los métodos y propiedades: shape, columns, head(), dtypes, info(), isna()"
      ],
      "metadata": {
        "id": "ZL_fdY_zhpz5"
      }
    },
    {
      "cell_type": "code",
      "source": [
        "#Punto \n",
        "print(\"------------------------------------1------------------------------------------\")\n",
        "print(\"Numero de registros y Columnas : \")\n",
        "print(df.shape)\n"
      ],
      "metadata": {
        "colab": {
          "base_uri": "https://localhost:8080/"
        },
        "id": "YrzR2oLthlEU",
        "outputId": "108a4389-9729-4900-d552-b7a6df86f007"
      },
      "execution_count": 22,
      "outputs": [
        {
          "output_type": "stream",
          "name": "stdout",
          "text": [
            "------------------------------------1------------------------------------------\n",
            "Numero de registros y Columnas : \n",
            "(30000, 25)\n"
          ]
        }
      ]
    },
    {
      "cell_type": "code",
      "source": [
        "print(\"------------------------------------2------------------------------------------\")\n",
        "print(\"Nombre de las variables de entrada (Columnas)\")\n",
        "print(df.columns)\n",
        "index = df.columns\n"
      ],
      "metadata": {
        "colab": {
          "base_uri": "https://localhost:8080/"
        },
        "id": "q6VZ__b2jn92",
        "outputId": "88801bb1-6c86-41f4-9ef8-dcce24c23629"
      },
      "execution_count": 39,
      "outputs": [
        {
          "output_type": "stream",
          "name": "stdout",
          "text": [
            "------------------------------------2------------------------------------------\n",
            "Nombre de las variables de entrada (Columnas)\n",
            "Index(['ID', 'X1', 'X2', 'X3', 'X4', 'X5', 'X6', 'X7', 'X8', 'X9', 'X10',\n",
            "       'X11', 'X12', 'X13', 'X14', 'X15', 'X16', 'X17', 'X18', 'X19', 'X20',\n",
            "       'X21', 'X22', 'X23', 'Y'],\n",
            "      dtype='object')\n"
          ]
        }
      ]
    },
    {
      "cell_type": "code",
      "source": [
        "print(\"------------------------------------3------------------------------------------\")\n",
        "print(\"Primeros 5 registros\")\n",
        "print(df.head())\n"
      ],
      "metadata": {
        "colab": {
          "base_uri": "https://localhost:8080/"
        },
        "id": "E-N_hav8jq4T",
        "outputId": "5fb8d1a7-92b0-42c6-f682-46a119e12962"
      },
      "execution_count": 24,
      "outputs": [
        {
          "output_type": "stream",
          "name": "stdout",
          "text": [
            "------------------------------------3------------------------------------------\n",
            "Primeros 5 registros\n",
            "   ID      X1   X2   X3   X4    X5   X6   X7   X8   X9  ...      X15      X16  \\\n",
            "0   1   20000  2.0  2.0  1.0  24.0  2.0  2.0 -1.0 -1.0  ...      0.0      0.0   \n",
            "1   2  120000  2.0  2.0  2.0  26.0 -1.0  2.0  0.0  0.0  ...   3272.0   3455.0   \n",
            "2   3   90000  2.0  2.0  2.0  34.0  0.0  0.0  0.0  0.0  ...  14331.0  14948.0   \n",
            "3   4   50000  2.0  2.0  1.0  37.0  0.0  0.0  0.0  0.0  ...  28314.0  28959.0   \n",
            "4   5   50000  1.0  2.0  1.0  57.0 -1.0  0.0 -1.0  0.0  ...  20940.0  19146.0   \n",
            "\n",
            "       X17     X18      X19      X20     X21     X22     X23    Y  \n",
            "0      0.0     0.0    689.0      0.0     0.0     0.0     0.0  1.0  \n",
            "1   3261.0     0.0   1000.0   1000.0  1000.0     0.0  2000.0  1.0  \n",
            "2  15549.0  1518.0   1500.0   1000.0  1000.0  1000.0  5000.0  0.0  \n",
            "3  29547.0  2000.0   2019.0   1200.0  1100.0  1069.0  1000.0  0.0  \n",
            "4  19131.0  2000.0  36681.0  10000.0  9000.0   689.0   679.0  0.0  \n",
            "\n",
            "[5 rows x 25 columns]\n"
          ]
        }
      ]
    },
    {
      "cell_type": "code",
      "source": [
        "print(\"------------------------------------4------------------------------------------\")\n",
        "print(\"Tipo de datos \")\n",
        "print(df.dtypes)\n"
      ],
      "metadata": {
        "colab": {
          "base_uri": "https://localhost:8080/"
        },
        "id": "m6nP0ZJxjuua",
        "outputId": "ebf083e2-7679-498d-b8d9-20d2252585cb"
      },
      "execution_count": 25,
      "outputs": [
        {
          "output_type": "stream",
          "name": "stdout",
          "text": [
            "------------------------------------4------------------------------------------\n",
            "Tipo de datos \n",
            "ID       int64\n",
            "X1       int64\n",
            "X2     float64\n",
            "X3     float64\n",
            "X4     float64\n",
            "X5     float64\n",
            "X6     float64\n",
            "X7     float64\n",
            "X8     float64\n",
            "X9     float64\n",
            "X10    float64\n",
            "X11    float64\n",
            "X12    float64\n",
            "X13    float64\n",
            "X14    float64\n",
            "X15    float64\n",
            "X16    float64\n",
            "X17    float64\n",
            "X18    float64\n",
            "X19    float64\n",
            "X20    float64\n",
            "X21    float64\n",
            "X22    float64\n",
            "X23    float64\n",
            "Y      float64\n",
            "dtype: object\n"
          ]
        }
      ]
    },
    {
      "cell_type": "code",
      "source": [
        "print(\"------------------------------------5------------------------------------------\")\n",
        "print(\"Info \")\n",
        "print(df.info())\n"
      ],
      "metadata": {
        "colab": {
          "base_uri": "https://localhost:8080/"
        },
        "id": "dPxSc0jOjx2P",
        "outputId": "86d933c1-f830-4327-b4df-d0eea5013446"
      },
      "execution_count": 26,
      "outputs": [
        {
          "output_type": "stream",
          "name": "stdout",
          "text": [
            "------------------------------------5------------------------------------------\n",
            "Info \n",
            "<class 'pandas.core.frame.DataFrame'>\n",
            "RangeIndex: 30000 entries, 0 to 29999\n",
            "Data columns (total 25 columns):\n",
            " #   Column  Non-Null Count  Dtype  \n",
            "---  ------  --------------  -----  \n",
            " 0   ID      30000 non-null  int64  \n",
            " 1   X1      30000 non-null  int64  \n",
            " 2   X2      29999 non-null  float64\n",
            " 3   X3      29998 non-null  float64\n",
            " 4   X4      29998 non-null  float64\n",
            " 5   X5      29995 non-null  float64\n",
            " 6   X6      29997 non-null  float64\n",
            " 7   X7      29995 non-null  float64\n",
            " 8   X8      29993 non-null  float64\n",
            " 9   X9      29991 non-null  float64\n",
            " 10  X10     29984 non-null  float64\n",
            " 11  X11     29986 non-null  float64\n",
            " 12  X12     29989 non-null  float64\n",
            " 13  X13     29989 non-null  float64\n",
            " 14  X14     29987 non-null  float64\n",
            " 15  X15     29985 non-null  float64\n",
            " 16  X16     29983 non-null  float64\n",
            " 17  X17     29990 non-null  float64\n",
            " 18  X18     29992 non-null  float64\n",
            " 19  X19     29991 non-null  float64\n",
            " 20  X20     29992 non-null  float64\n",
            " 21  X21     29989 non-null  float64\n",
            " 22  X22     29989 non-null  float64\n",
            " 23  X23     29995 non-null  float64\n",
            " 24  Y       29997 non-null  float64\n",
            "dtypes: float64(23), int64(2)\n",
            "memory usage: 5.7 MB\n",
            "None\n"
          ]
        }
      ]
    },
    {
      "cell_type": "code",
      "source": [
        "print(\"------------------------------------6------------------------------------------\")\n",
        "print(\"Hay datos nulos? \")\n",
        "print(df.isna())"
      ],
      "metadata": {
        "colab": {
          "base_uri": "https://localhost:8080/"
        },
        "id": "3XeTF0O7j0UH",
        "outputId": "9ebb2dbb-7360-4f6a-c1dc-c87bedde77e8"
      },
      "execution_count": 29,
      "outputs": [
        {
          "output_type": "stream",
          "name": "stdout",
          "text": [
            "------------------------------------6------------------------------------------\n",
            "Hay datos nulos? \n",
            "          ID     X1     X2     X3     X4     X5     X6     X7     X8     X9  \\\n",
            "0      False  False  False  False  False  False  False  False  False  False   \n",
            "1      False  False  False  False  False  False  False  False  False  False   \n",
            "2      False  False  False  False  False  False  False  False  False  False   \n",
            "3      False  False  False  False  False  False  False  False  False  False   \n",
            "4      False  False  False  False  False  False  False  False  False  False   \n",
            "...      ...    ...    ...    ...    ...    ...    ...    ...    ...    ...   \n",
            "29995  False  False  False  False  False  False  False  False  False  False   \n",
            "29996  False  False  False  False  False  False  False  False  False  False   \n",
            "29997  False  False  False  False  False  False  False  False  False  False   \n",
            "29998  False  False  False  False  False  False  False  False  False  False   \n",
            "29999  False  False  False  False  False  False  False  False  False  False   \n",
            "\n",
            "       ...    X15    X16    X17    X18    X19    X20    X21    X22    X23  \\\n",
            "0      ...  False  False  False  False  False  False  False  False  False   \n",
            "1      ...  False  False  False  False  False  False  False  False  False   \n",
            "2      ...  False  False  False  False  False  False  False  False  False   \n",
            "3      ...  False  False  False  False  False  False  False  False  False   \n",
            "4      ...  False  False  False  False  False  False  False  False  False   \n",
            "...    ...    ...    ...    ...    ...    ...    ...    ...    ...    ...   \n",
            "29995  ...  False  False  False  False  False  False  False  False  False   \n",
            "29996  ...  False  False  False  False  False  False  False  False  False   \n",
            "29997  ...  False  False  False  False  False  False  False  False  False   \n",
            "29998  ...  False  False  False  False  False  False  False  False  False   \n",
            "29999  ...  False  False  False  False  False  False  False  False  False   \n",
            "\n",
            "           Y  \n",
            "0      False  \n",
            "1      False  \n",
            "2      False  \n",
            "3      False  \n",
            "4      False  \n",
            "...      ...  \n",
            "29995  False  \n",
            "29996  False  \n",
            "29997  False  \n",
            "29998  False  \n",
            "29999  False  \n",
            "\n",
            "[30000 rows x 25 columns]\n"
          ]
        }
      ]
    },
    {
      "cell_type": "code",
      "source": [
        "#numero de datos nulos\n",
        "df.isnull().sum() "
      ],
      "metadata": {
        "colab": {
          "base_uri": "https://localhost:8080/"
        },
        "id": "9tMPdw2pjY1V",
        "outputId": "cc5e616c-ee51-438e-d018-11a8b309c81f"
      },
      "execution_count": 21,
      "outputs": [
        {
          "output_type": "execute_result",
          "data": {
            "text/plain": [
              "ID      0\n",
              "X1      0\n",
              "X2      1\n",
              "X3      2\n",
              "X4      2\n",
              "X5      5\n",
              "X6      3\n",
              "X7      5\n",
              "X8      7\n",
              "X9      9\n",
              "X10    16\n",
              "X11    14\n",
              "X12    11\n",
              "X13    11\n",
              "X14    13\n",
              "X15    15\n",
              "X16    17\n",
              "X17    10\n",
              "X18     8\n",
              "X19     9\n",
              "X20     8\n",
              "X21    11\n",
              "X22    11\n",
              "X23     5\n",
              "Y       3\n",
              "dtype: int64"
            ]
          },
          "metadata": {},
          "execution_count": 21
        }
      ]
    },
    {
      "cell_type": "code",
      "source": [
        "df.value_counts()"
      ],
      "metadata": {
        "colab": {
          "base_uri": "https://localhost:8080/"
        },
        "id": "c2vZm2-nlPsO",
        "outputId": "7793f6e2-75c2-4b2d-beaa-0c9cb6cdefad"
      },
      "execution_count": 30,
      "outputs": [
        {
          "output_type": "execute_result",
          "data": {
            "text/plain": [
              "ID     X1      X2   X3   X4   X5    X6    X7    X8    X9    X10   X11   X12       X13       X14        X15       X16       X17       X18     X19      X20     X21     X22     X23     Y  \n",
              "1      20000   2.0  2.0  1.0  24.0   2.0   2.0  -1.0  -1.0  -2.0  -2.0  3913.0    3102.0     689.0     0.0       0.0       0.0       0.0     689.0    0.0     0.0     0.0     0.0     1.0    1\n",
              "19998  290000  2.0  2.0  1.0  41.0  -1.0  -1.0  -2.0  -1.0   0.0  -1.0  2025.0    0.0        0.0       9194.0    9194.0    399.0     0.0     0.0      9194.0  0.0     399.0   9290.0  0.0    1\n",
              "20010  230000  2.0  1.0  2.0  37.0  -2.0  -2.0  -2.0  -2.0  -2.0  -2.0  1985.0    7150.0     20123.0   1671.0    1244.0    0.0       8075.0  20200.0  1671.0  1244.0  0.0     809.0   0.0    1\n",
              "20009  200000  2.0  1.0  2.0  31.0   0.0   0.0   0.0   0.0   0.0   0.0  90708.0   58787.0    104382.0  91888.0   88267.0   85471.0   2768.0  48617.0  3243.0  3000.0  3233.0  3000.0  0.0    1\n",
              "20008  180000  2.0  2.0  1.0  46.0  -1.0  -1.0  -1.0  -1.0  -1.0  -1.0  578.0     911.0      578.0     578.0     578.0     438.0     911.0   578.0    578.0   578.0   438.0   280.0   0.0    1\n",
              "                                                                                                                                                                                            ..\n",
              "10008  100000  2.0  2.0  1.0  38.0   2.0   2.0   2.0   0.0   0.0   2.0  37516.0   38622.0    37706.0   38148.0   40630.0   39827.0   2000.0  0.0      1369.0  3100.0  0.0     1443.0  0.0    1\n",
              "10007  170000  1.0  2.0  2.0  35.0   0.0   0.0   0.0   0.0   0.0   2.0  115634.0  118823.0   120475.0  109993.0  115151.0  112232.0  5935.0  6040.0   4000.0  8000.0  0.0     4320.0  0.0    1\n",
              "10006  280000  2.0  2.0  2.0  36.0   0.0   0.0   0.0   0.0   0.0   0.0  91093.0   92775.0    81718.0   83347.0   85623.0   87252.0   3224.0  2965.0   2987.0  3623.0  3148.0  3194.0  0.0    1\n",
              "10005  200000  2.0  3.0  2.0  45.0   1.0  -2.0  -2.0  -2.0  -1.0   0.0  666.0     1928.0    -15.0      1753.0    4717.0    1230.0    1937.0  0.0      1768.0  6137.0  0.0     27.0    0.0    1\n",
              "30000  50000   1.0  2.0  1.0  46.0   0.0   0.0   0.0   0.0   0.0   0.0  47929.0   48905.0    49764.0   36535.0   32428.0   15313.0   2078.0  1800.0   1430.0  1000.0  1000.0  1000.0  1.0    1\n",
              "Length: 29958, dtype: int64"
            ]
          },
          "metadata": {},
          "execution_count": 30
        }
      ]
    },
    {
      "cell_type": "code",
      "source": [
        "df.isnull().any()"
      ],
      "metadata": {
        "colab": {
          "base_uri": "https://localhost:8080/"
        },
        "id": "DNSu-Vfol94m",
        "outputId": "58ee732f-9c46-49d1-837a-18b10af7d6d9"
      },
      "execution_count": 33,
      "outputs": [
        {
          "output_type": "execute_result",
          "data": {
            "text/plain": [
              "ID     False\n",
              "X1     False\n",
              "X2      True\n",
              "X3      True\n",
              "X4      True\n",
              "X5      True\n",
              "X6      True\n",
              "X7      True\n",
              "X8      True\n",
              "X9      True\n",
              "X10     True\n",
              "X11     True\n",
              "X12     True\n",
              "X13     True\n",
              "X14     True\n",
              "X15     True\n",
              "X16     True\n",
              "X17     True\n",
              "X18     True\n",
              "X19     True\n",
              "X20     True\n",
              "X21     True\n",
              "X22     True\n",
              "X23     True\n",
              "Y       True\n",
              "dtype: bool"
            ]
          },
          "metadata": {},
          "execution_count": 33
        }
      ]
    },
    {
      "cell_type": "markdown",
      "source": [
        "Comprobamos que de la variable X2 a X23 si existen valores nulos "
      ],
      "metadata": {
        "id": "NWUGERKPmBB0"
      }
    },
    {
      "cell_type": "code",
      "source": [
        "\n",
        "df[index].value_counts()"
      ],
      "metadata": {
        "colab": {
          "base_uri": "https://localhost:8080/"
        },
        "id": "7_fneVSjx7Nt",
        "outputId": "f23f5e17-95ba-45db-ec79-dd6685f2b58c"
      },
      "execution_count": 62,
      "outputs": [
        {
          "output_type": "execute_result",
          "data": {
            "text/plain": [
              "ID     X1      X2   X3   X4   X5    X6    X7    X8    X9    X10   X11   X12       X13       X14        X15       X16       X17       X18     X19      X20     X21     X22     X23     Y  \n",
              "1      20000   2.0  2.0  1.0  24.0   2.0   2.0  -1.0  -1.0  -2.0  -2.0  3913.0    3102.0     689.0     0.0       0.0       0.0       0.0     689.0    0.0     0.0     0.0     0.0     1.0    1\n",
              "19998  290000  2.0  2.0  1.0  41.0  -1.0  -1.0  -2.0  -1.0   0.0  -1.0  2025.0    0.0        0.0       9194.0    9194.0    399.0     0.0     0.0      9194.0  0.0     399.0   9290.0  0.0    1\n",
              "20010  230000  2.0  1.0  2.0  37.0  -2.0  -2.0  -2.0  -2.0  -2.0  -2.0  1985.0    7150.0     20123.0   1671.0    1244.0    0.0       8075.0  20200.0  1671.0  1244.0  0.0     809.0   0.0    1\n",
              "20009  200000  2.0  1.0  2.0  31.0   0.0   0.0   0.0   0.0   0.0   0.0  90708.0   58787.0    104382.0  91888.0   88267.0   85471.0   2768.0  48617.0  3243.0  3000.0  3233.0  3000.0  0.0    1\n",
              "20008  180000  2.0  2.0  1.0  46.0  -1.0  -1.0  -1.0  -1.0  -1.0  -1.0  578.0     911.0      578.0     578.0     578.0     438.0     911.0   578.0    578.0   578.0   438.0   280.0   0.0    1\n",
              "                                                                                                                                                                                            ..\n",
              "10008  100000  2.0  2.0  1.0  38.0   2.0   2.0   2.0   0.0   0.0   2.0  37516.0   38622.0    37706.0   38148.0   40630.0   39827.0   2000.0  0.0      1369.0  3100.0  0.0     1443.0  0.0    1\n",
              "10007  170000  1.0  2.0  2.0  35.0   0.0   0.0   0.0   0.0   0.0   2.0  115634.0  118823.0   120475.0  109993.0  115151.0  112232.0  5935.0  6040.0   4000.0  8000.0  0.0     4320.0  0.0    1\n",
              "10006  280000  2.0  2.0  2.0  36.0   0.0   0.0   0.0   0.0   0.0   0.0  91093.0   92775.0    81718.0   83347.0   85623.0   87252.0   3224.0  2965.0   2987.0  3623.0  3148.0  3194.0  0.0    1\n",
              "10005  200000  2.0  3.0  2.0  45.0   1.0  -2.0  -2.0  -2.0  -1.0   0.0  666.0     1928.0    -15.0      1753.0    4717.0    1230.0    1937.0  0.0      1768.0  6137.0  0.0     27.0    0.0    1\n",
              "30000  50000   1.0  2.0  1.0  46.0   0.0   0.0   0.0   0.0   0.0   0.0  47929.0   48905.0    49764.0   36535.0   32428.0   15313.0   2078.0  1800.0   1430.0  1000.0  1000.0  1000.0  1.0    1\n",
              "Length: 29958, dtype: int64"
            ]
          },
          "metadata": {},
          "execution_count": 62
        }
      ]
    },
    {
      "cell_type": "markdown",
      "source": [
        "# 3) Limpia los datos eliminando los registros nulos o rellena con la media de la columna\n",
        "\n",
        "Aplicamos ambas tecnicas "
      ],
      "metadata": {
        "id": "cBtuwECykThq"
      }
    },
    {
      "cell_type": "code",
      "source": [
        "df.isnull().sum() \n"
      ],
      "metadata": {
        "colab": {
          "base_uri": "https://localhost:8080/"
        },
        "id": "c4STwDMvm7_0",
        "outputId": "77f01f79-ffa6-49ab-a62a-0d0fee8fa00f"
      },
      "execution_count": 92,
      "outputs": [
        {
          "output_type": "execute_result",
          "data": {
            "text/plain": [
              "ID      0\n",
              "X1      0\n",
              "X2      1\n",
              "X3      2\n",
              "X4      2\n",
              "X5      5\n",
              "X6      3\n",
              "X7      5\n",
              "X8      7\n",
              "X9      9\n",
              "X10    16\n",
              "X11    14\n",
              "X12    11\n",
              "X13    11\n",
              "X14    13\n",
              "X15    15\n",
              "X16    17\n",
              "X17    10\n",
              "X18     8\n",
              "X19     9\n",
              "X20     8\n",
              "X21    11\n",
              "X22    11\n",
              "X23     5\n",
              "Y       3\n",
              "dtype: int64"
            ]
          },
          "metadata": {},
          "execution_count": 92
        }
      ]
    },
    {
      "cell_type": "code",
      "source": [
        "df2 = df.copy()"
      ],
      "metadata": {
        "id": "_xE8bg5Xuz0J"
      },
      "execution_count": 96,
      "outputs": []
    },
    {
      "cell_type": "code",
      "source": [
        "df.dropna(inplace = True)"
      ],
      "metadata": {
        "id": "9KLtFJitnBw-"
      },
      "execution_count": 135,
      "outputs": []
    },
    {
      "cell_type": "code",
      "source": [
        "df.isnull().sum() "
      ],
      "metadata": {
        "colab": {
          "base_uri": "https://localhost:8080/"
        },
        "id": "RjWJ36wpnFKi",
        "outputId": "a005ad61-1224-4300-89d9-b3aea09b13e9"
      },
      "execution_count": 136,
      "outputs": [
        {
          "output_type": "execute_result",
          "data": {
            "text/plain": [
              "ID                            0\n",
              "Amount of the given credit    0\n",
              "Gender                        0\n",
              "Education                     0\n",
              "Marital status                0\n",
              "Age (year)                    0\n",
              "September                     0\n",
              "August                        0\n",
              "July                          0\n",
              "June                          0\n",
              "May                           0\n",
              "Abril                         0\n",
              "$ Bill Sep                    0\n",
              "$ Bill Aug                    0\n",
              "$ Bill Jul                    0\n",
              "$ Bill Jun                    0\n",
              "$ Bill May                    0\n",
              "$ Bill Apr                    0\n",
              "$ Pay Sep                     0\n",
              "$ Pay Aug                     0\n",
              "$ Pay Jul                     0\n",
              "$ Pay Jun                     0\n",
              "$ Pay May                     0\n",
              "$ Pay Apr                     0\n",
              "Y                             0\n",
              "dtype: int64"
            ]
          },
          "metadata": {},
          "execution_count": 136
        }
      ]
    },
    {
      "cell_type": "markdown",
      "source": [
        "Comprobamos que ya no hay datos nulos ya que los eliminamos"
      ],
      "metadata": {
        "id": "sSVQhLqdnHWm"
      }
    },
    {
      "cell_type": "code",
      "source": [
        "mean_value=df2[index].mean()\n",
        "print(mean_value)"
      ],
      "metadata": {
        "colab": {
          "base_uri": "https://localhost:8080/"
        },
        "id": "bQI0A-vcrQ0a",
        "outputId": "2384d4a0-3ddc-4b89-d308-4b7aa5cb588c"
      },
      "execution_count": 49,
      "outputs": [
        {
          "output_type": "stream",
          "name": "stdout",
          "text": [
            "ID      15000.500000\n",
            "X1     167484.322667\n",
            "X2          1.603753\n",
            "X3          1.853057\n",
            "X4          1.551903\n",
            "X5         35.484214\n",
            "X6         -0.016635\n",
            "X7         -0.133689\n",
            "X8         -0.166405\n",
            "X9         -0.220800\n",
            "X10        -0.266342\n",
            "X11        -0.291136\n",
            "X12     51236.862750\n",
            "X13     49190.734669\n",
            "X14     47025.350152\n",
            "X15     43275.652326\n",
            "X16     40324.493980\n",
            "X17     38881.135745\n",
            "X18      5662.945886\n",
            "X19      5922.488913\n",
            "X20      5225.623400\n",
            "X21      4827.252526\n",
            "X22      4800.297209\n",
            "X23      5216.259977\n",
            "Y           0.221189\n",
            "dtype: float64\n"
          ]
        }
      ]
    },
    {
      "cell_type": "markdown",
      "source": [
        "## Sustituimos valores nulos con el promedio y la variable se data set se llama \n",
        "df2"
      ],
      "metadata": {
        "id": "6CTyt7KBvGOU"
      }
    },
    {
      "cell_type": "code",
      "source": [],
      "metadata": {
        "id": "8hvOAXYAvE-n"
      },
      "execution_count": null,
      "outputs": []
    },
    {
      "cell_type": "code",
      "source": [
        "df2[df2.columns].fillna(value=mean_value, inplace=True)\n",
        "df.isnull().sum() "
      ],
      "metadata": {
        "colab": {
          "base_uri": "https://localhost:8080/"
        },
        "id": "2Hwc1vELnHHk",
        "outputId": "d5fc5cae-566a-4386-fb3e-1aaa53cd5981"
      },
      "execution_count": 101,
      "outputs": [
        {
          "output_type": "execute_result",
          "data": {
            "text/plain": [
              "ID                             0\n",
              "Amount of the given credit     0\n",
              "Gender                         1\n",
              "Education                      2\n",
              "Marital status                 2\n",
              "Age (year)                     5\n",
              "September                      3\n",
              "August                         5\n",
              "July                           7\n",
              "June                           9\n",
              "May                           16\n",
              "Abril                         14\n",
              "$ Bill Sep                    11\n",
              "$ Bill Aug                    11\n",
              "$ Bill Jul                    13\n",
              "$ Bill Jun                    15\n",
              "$ Bill May                    17\n",
              "$ Bill Apr                    10\n",
              "$ Pay Sep                      8\n",
              "$ Pay Aug                      9\n",
              "$ Pay Jul                      8\n",
              "$ Pay Jun                     11\n",
              "$ Pay May                     11\n",
              "$ Pay Apr                      5\n",
              "Y                              3\n",
              "dtype: int64"
            ]
          },
          "metadata": {},
          "execution_count": 101
        }
      ]
    },
    {
      "cell_type": "markdown",
      "source": [
        "Nombramos las variables de entrada "
      ],
      "metadata": {
        "id": "VGlXMfDGzYgs"
      }
    },
    {
      "cell_type": "code",
      "source": [
        "\n",
        "\n",
        "df.rename(columns = {'X1':'Amount of the given credit', \n",
        "                     'X2': 'Gender' , 'X3': 'Education',\n",
        "                     'X4': 'Marital status','X5': 'Age (year)',\n",
        "                     'X6': 'September', \n",
        "                     'X7': 'August',\n",
        "                     'X8': 'July',\n",
        "                     'X9': 'June',\n",
        "                     'X10': 'May',\n",
        "                     'X11': 'Abril',\n",
        "                     'X12': '$ Bill Sep', \n",
        "                     'X13': '$ Bill Aug',\n",
        "                     'X14': '$ Bill Jul',\n",
        "                     'X15': '$ Bill Jun',\n",
        "                     'X16': '$ Bill May',\n",
        "                     'X17': '$ Bill Apr',\n",
        "                     'X18': '$ Pay Sep', \n",
        "                     'X19': '$ Pay Aug',\n",
        "                     'X20': '$ Pay Jul',\n",
        "                     'X21': '$ Pay Jun',\n",
        "                     'X22': '$ Pay May',\n",
        "                     'X23': '$ Pay Apr'}, inplace = True)\n",
        "\n",
        "\n",
        "df2.rename(columns = {'X1':'Amount of the given credit', \n",
        "                     'X2': 'Gender' , 'X3': 'Education',\n",
        "                     'X4': 'Marital status','X5': 'Age (year)',\n",
        "                     'X6': 'September', \n",
        "                     'X7': 'August',\n",
        "                     'X8': 'July',\n",
        "                     'X9': 'June',\n",
        "                     'X10': 'May',\n",
        "                     'X11': 'Abril',\n",
        "                     'X12': '$ Bill Sep', \n",
        "                     'X13': '$ Bill Aug',\n",
        "                     'X14': '$ Bill Jul',\n",
        "                     'X15': '$ Bill Jun',\n",
        "                     'X16': '$ Bill May',\n",
        "                     'X17': '$ Bill Apr',\n",
        "                     'X18': '$ Pay Sep', \n",
        "                     'X19': '$ Pay Aug',\n",
        "                     'X20': '$ Pay Jul',\n",
        "                     'X21': '$ Pay Jun',\n",
        "                     'X22': '$ Pay May',\n",
        "                     'X23': '$ Pay Apr'}, inplace = True)\n"
      ],
      "metadata": {
        "id": "qhhA5cG3zSFn"
      },
      "execution_count": 93,
      "outputs": []
    },
    {
      "cell_type": "markdown",
      "source": [
        "## 4 Calcula la estadística descriptiva con describe() y explica las medidas de tendencia central y dispersión"
      ],
      "metadata": {
        "id": "_SERr0k2vXoW"
      }
    },
    {
      "cell_type": "code",
      "source": [
        "df.describe()#Eliminando datos nulos"
      ],
      "metadata": {
        "colab": {
          "base_uri": "https://localhost:8080/",
          "height": 424
        },
        "id": "7zZHXBJQvXMw",
        "outputId": "099cd9de-e3b9-4d45-9b3f-cdac45998475"
      },
      "execution_count": 131,
      "outputs": [
        {
          "output_type": "execute_result",
          "data": {
            "text/plain": [
              "                 ID  Amount of the given credit        Gender     Education  \\\n",
              "count  30000.000000                30000.000000  29999.000000  29998.000000   \n",
              "mean   15000.500000               167484.322667      1.603753      1.853057   \n",
              "std     8660.398374               129747.661567      0.489125      0.790320   \n",
              "min        1.000000                10000.000000      1.000000      0.000000   \n",
              "25%     7500.750000                50000.000000      1.000000      1.000000   \n",
              "50%    15000.500000               140000.000000      2.000000      2.000000   \n",
              "75%    22500.250000               240000.000000      2.000000      2.000000   \n",
              "max    30000.000000              1000000.000000      2.000000      6.000000   \n",
              "\n",
              "       Marital status    Age (year)     September        August          July  \\\n",
              "count    29998.000000  29995.000000  29997.000000  29995.000000  29993.000000   \n",
              "mean         1.551903     35.484214     -0.016635     -0.133689     -0.166405   \n",
              "std          0.521968      9.218024      1.123829      1.197254      1.196048   \n",
              "min          0.000000     21.000000     -2.000000     -2.000000     -2.000000   \n",
              "25%          1.000000     28.000000     -1.000000     -1.000000     -1.000000   \n",
              "50%          2.000000     34.000000      0.000000      0.000000      0.000000   \n",
              "75%          2.000000     41.000000      0.000000      0.000000      0.000000   \n",
              "max          3.000000     79.000000      8.000000      8.000000      8.000000   \n",
              "\n",
              "               June  ...     $ Bill Jun     $ Bill May     $ Bill Apr  \\\n",
              "count  29991.000000  ...   29985.000000   29983.000000   29990.000000   \n",
              "mean      -0.220800  ...   43275.652326   40324.493980   38881.135745   \n",
              "std        1.169153  ...   64345.500073   60809.984983   59561.312967   \n",
              "min       -2.000000  ... -170000.000000  -81334.000000 -339603.000000   \n",
              "25%       -1.000000  ...    2329.000000    1763.500000    1256.250000   \n",
              "50%        0.000000  ...   19052.000000   18107.000000   17081.000000   \n",
              "75%        0.000000  ...   54560.000000   50213.000000   49208.250000   \n",
              "max        8.000000  ...  891586.000000  927171.000000  961664.000000   \n",
              "\n",
              "           $ Pay Sep     $ Pay Aug      $ Pay Jul      $ Pay Jun  \\\n",
              "count   29992.000000  2.999100e+04   29992.000000   29989.000000   \n",
              "mean     5662.945886  5.922489e+03    5225.623400    4827.252526   \n",
              "std     16564.165089  2.304418e+04   17608.422625   15668.751975   \n",
              "min         0.000000  0.000000e+00       0.000000       0.000000   \n",
              "25%      1000.000000  8.355000e+02     390.000000     296.000000   \n",
              "50%      2100.000000  2.009000e+03    1800.000000    1500.000000   \n",
              "75%      5006.000000  5.000000e+03    4505.500000    4014.000000   \n",
              "max    873552.000000  1.684259e+06  896040.000000  621000.000000   \n",
              "\n",
              "           $ Pay May      $ Pay Apr             Y  \n",
              "count   29989.000000   29995.000000  29997.000000  \n",
              "mean     4800.297209    5216.259977      0.221189  \n",
              "std     15280.842069   17778.848359      0.415054  \n",
              "min         0.000000       0.000000      0.000000  \n",
              "25%       251.000000     118.000000      0.000000  \n",
              "50%      1500.000000    1500.000000      0.000000  \n",
              "75%      4033.000000    4000.000000      0.000000  \n",
              "max    426529.000000  528666.000000      1.000000  \n",
              "\n",
              "[8 rows x 25 columns]"
            ],
            "text/html": [
              "\n",
              "  <div id=\"df-f1c764e1-f7c5-4d5c-ad6f-44133febb242\">\n",
              "    <div class=\"colab-df-container\">\n",
              "      <div>\n",
              "<style scoped>\n",
              "    .dataframe tbody tr th:only-of-type {\n",
              "        vertical-align: middle;\n",
              "    }\n",
              "\n",
              "    .dataframe tbody tr th {\n",
              "        vertical-align: top;\n",
              "    }\n",
              "\n",
              "    .dataframe thead th {\n",
              "        text-align: right;\n",
              "    }\n",
              "</style>\n",
              "<table border=\"1\" class=\"dataframe\">\n",
              "  <thead>\n",
              "    <tr style=\"text-align: right;\">\n",
              "      <th></th>\n",
              "      <th>ID</th>\n",
              "      <th>Amount of the given credit</th>\n",
              "      <th>Gender</th>\n",
              "      <th>Education</th>\n",
              "      <th>Marital status</th>\n",
              "      <th>Age (year)</th>\n",
              "      <th>September</th>\n",
              "      <th>August</th>\n",
              "      <th>July</th>\n",
              "      <th>June</th>\n",
              "      <th>...</th>\n",
              "      <th>$ Bill Jun</th>\n",
              "      <th>$ Bill May</th>\n",
              "      <th>$ Bill Apr</th>\n",
              "      <th>$ Pay Sep</th>\n",
              "      <th>$ Pay Aug</th>\n",
              "      <th>$ Pay Jul</th>\n",
              "      <th>$ Pay Jun</th>\n",
              "      <th>$ Pay May</th>\n",
              "      <th>$ Pay Apr</th>\n",
              "      <th>Y</th>\n",
              "    </tr>\n",
              "  </thead>\n",
              "  <tbody>\n",
              "    <tr>\n",
              "      <th>count</th>\n",
              "      <td>30000.000000</td>\n",
              "      <td>30000.000000</td>\n",
              "      <td>29999.000000</td>\n",
              "      <td>29998.000000</td>\n",
              "      <td>29998.000000</td>\n",
              "      <td>29995.000000</td>\n",
              "      <td>29997.000000</td>\n",
              "      <td>29995.000000</td>\n",
              "      <td>29993.000000</td>\n",
              "      <td>29991.000000</td>\n",
              "      <td>...</td>\n",
              "      <td>29985.000000</td>\n",
              "      <td>29983.000000</td>\n",
              "      <td>29990.000000</td>\n",
              "      <td>29992.000000</td>\n",
              "      <td>2.999100e+04</td>\n",
              "      <td>29992.000000</td>\n",
              "      <td>29989.000000</td>\n",
              "      <td>29989.000000</td>\n",
              "      <td>29995.000000</td>\n",
              "      <td>29997.000000</td>\n",
              "    </tr>\n",
              "    <tr>\n",
              "      <th>mean</th>\n",
              "      <td>15000.500000</td>\n",
              "      <td>167484.322667</td>\n",
              "      <td>1.603753</td>\n",
              "      <td>1.853057</td>\n",
              "      <td>1.551903</td>\n",
              "      <td>35.484214</td>\n",
              "      <td>-0.016635</td>\n",
              "      <td>-0.133689</td>\n",
              "      <td>-0.166405</td>\n",
              "      <td>-0.220800</td>\n",
              "      <td>...</td>\n",
              "      <td>43275.652326</td>\n",
              "      <td>40324.493980</td>\n",
              "      <td>38881.135745</td>\n",
              "      <td>5662.945886</td>\n",
              "      <td>5.922489e+03</td>\n",
              "      <td>5225.623400</td>\n",
              "      <td>4827.252526</td>\n",
              "      <td>4800.297209</td>\n",
              "      <td>5216.259977</td>\n",
              "      <td>0.221189</td>\n",
              "    </tr>\n",
              "    <tr>\n",
              "      <th>std</th>\n",
              "      <td>8660.398374</td>\n",
              "      <td>129747.661567</td>\n",
              "      <td>0.489125</td>\n",
              "      <td>0.790320</td>\n",
              "      <td>0.521968</td>\n",
              "      <td>9.218024</td>\n",
              "      <td>1.123829</td>\n",
              "      <td>1.197254</td>\n",
              "      <td>1.196048</td>\n",
              "      <td>1.169153</td>\n",
              "      <td>...</td>\n",
              "      <td>64345.500073</td>\n",
              "      <td>60809.984983</td>\n",
              "      <td>59561.312967</td>\n",
              "      <td>16564.165089</td>\n",
              "      <td>2.304418e+04</td>\n",
              "      <td>17608.422625</td>\n",
              "      <td>15668.751975</td>\n",
              "      <td>15280.842069</td>\n",
              "      <td>17778.848359</td>\n",
              "      <td>0.415054</td>\n",
              "    </tr>\n",
              "    <tr>\n",
              "      <th>min</th>\n",
              "      <td>1.000000</td>\n",
              "      <td>10000.000000</td>\n",
              "      <td>1.000000</td>\n",
              "      <td>0.000000</td>\n",
              "      <td>0.000000</td>\n",
              "      <td>21.000000</td>\n",
              "      <td>-2.000000</td>\n",
              "      <td>-2.000000</td>\n",
              "      <td>-2.000000</td>\n",
              "      <td>-2.000000</td>\n",
              "      <td>...</td>\n",
              "      <td>-170000.000000</td>\n",
              "      <td>-81334.000000</td>\n",
              "      <td>-339603.000000</td>\n",
              "      <td>0.000000</td>\n",
              "      <td>0.000000e+00</td>\n",
              "      <td>0.000000</td>\n",
              "      <td>0.000000</td>\n",
              "      <td>0.000000</td>\n",
              "      <td>0.000000</td>\n",
              "      <td>0.000000</td>\n",
              "    </tr>\n",
              "    <tr>\n",
              "      <th>25%</th>\n",
              "      <td>7500.750000</td>\n",
              "      <td>50000.000000</td>\n",
              "      <td>1.000000</td>\n",
              "      <td>1.000000</td>\n",
              "      <td>1.000000</td>\n",
              "      <td>28.000000</td>\n",
              "      <td>-1.000000</td>\n",
              "      <td>-1.000000</td>\n",
              "      <td>-1.000000</td>\n",
              "      <td>-1.000000</td>\n",
              "      <td>...</td>\n",
              "      <td>2329.000000</td>\n",
              "      <td>1763.500000</td>\n",
              "      <td>1256.250000</td>\n",
              "      <td>1000.000000</td>\n",
              "      <td>8.355000e+02</td>\n",
              "      <td>390.000000</td>\n",
              "      <td>296.000000</td>\n",
              "      <td>251.000000</td>\n",
              "      <td>118.000000</td>\n",
              "      <td>0.000000</td>\n",
              "    </tr>\n",
              "    <tr>\n",
              "      <th>50%</th>\n",
              "      <td>15000.500000</td>\n",
              "      <td>140000.000000</td>\n",
              "      <td>2.000000</td>\n",
              "      <td>2.000000</td>\n",
              "      <td>2.000000</td>\n",
              "      <td>34.000000</td>\n",
              "      <td>0.000000</td>\n",
              "      <td>0.000000</td>\n",
              "      <td>0.000000</td>\n",
              "      <td>0.000000</td>\n",
              "      <td>...</td>\n",
              "      <td>19052.000000</td>\n",
              "      <td>18107.000000</td>\n",
              "      <td>17081.000000</td>\n",
              "      <td>2100.000000</td>\n",
              "      <td>2.009000e+03</td>\n",
              "      <td>1800.000000</td>\n",
              "      <td>1500.000000</td>\n",
              "      <td>1500.000000</td>\n",
              "      <td>1500.000000</td>\n",
              "      <td>0.000000</td>\n",
              "    </tr>\n",
              "    <tr>\n",
              "      <th>75%</th>\n",
              "      <td>22500.250000</td>\n",
              "      <td>240000.000000</td>\n",
              "      <td>2.000000</td>\n",
              "      <td>2.000000</td>\n",
              "      <td>2.000000</td>\n",
              "      <td>41.000000</td>\n",
              "      <td>0.000000</td>\n",
              "      <td>0.000000</td>\n",
              "      <td>0.000000</td>\n",
              "      <td>0.000000</td>\n",
              "      <td>...</td>\n",
              "      <td>54560.000000</td>\n",
              "      <td>50213.000000</td>\n",
              "      <td>49208.250000</td>\n",
              "      <td>5006.000000</td>\n",
              "      <td>5.000000e+03</td>\n",
              "      <td>4505.500000</td>\n",
              "      <td>4014.000000</td>\n",
              "      <td>4033.000000</td>\n",
              "      <td>4000.000000</td>\n",
              "      <td>0.000000</td>\n",
              "    </tr>\n",
              "    <tr>\n",
              "      <th>max</th>\n",
              "      <td>30000.000000</td>\n",
              "      <td>1000000.000000</td>\n",
              "      <td>2.000000</td>\n",
              "      <td>6.000000</td>\n",
              "      <td>3.000000</td>\n",
              "      <td>79.000000</td>\n",
              "      <td>8.000000</td>\n",
              "      <td>8.000000</td>\n",
              "      <td>8.000000</td>\n",
              "      <td>8.000000</td>\n",
              "      <td>...</td>\n",
              "      <td>891586.000000</td>\n",
              "      <td>927171.000000</td>\n",
              "      <td>961664.000000</td>\n",
              "      <td>873552.000000</td>\n",
              "      <td>1.684259e+06</td>\n",
              "      <td>896040.000000</td>\n",
              "      <td>621000.000000</td>\n",
              "      <td>426529.000000</td>\n",
              "      <td>528666.000000</td>\n",
              "      <td>1.000000</td>\n",
              "    </tr>\n",
              "  </tbody>\n",
              "</table>\n",
              "<p>8 rows × 25 columns</p>\n",
              "</div>\n",
              "      <button class=\"colab-df-convert\" onclick=\"convertToInteractive('df-f1c764e1-f7c5-4d5c-ad6f-44133febb242')\"\n",
              "              title=\"Convert this dataframe to an interactive table.\"\n",
              "              style=\"display:none;\">\n",
              "        \n",
              "  <svg xmlns=\"http://www.w3.org/2000/svg\" height=\"24px\"viewBox=\"0 0 24 24\"\n",
              "       width=\"24px\">\n",
              "    <path d=\"M0 0h24v24H0V0z\" fill=\"none\"/>\n",
              "    <path d=\"M18.56 5.44l.94 2.06.94-2.06 2.06-.94-2.06-.94-.94-2.06-.94 2.06-2.06.94zm-11 1L8.5 8.5l.94-2.06 2.06-.94-2.06-.94L8.5 2.5l-.94 2.06-2.06.94zm10 10l.94 2.06.94-2.06 2.06-.94-2.06-.94-.94-2.06-.94 2.06-2.06.94z\"/><path d=\"M17.41 7.96l-1.37-1.37c-.4-.4-.92-.59-1.43-.59-.52 0-1.04.2-1.43.59L10.3 9.45l-7.72 7.72c-.78.78-.78 2.05 0 2.83L4 21.41c.39.39.9.59 1.41.59.51 0 1.02-.2 1.41-.59l7.78-7.78 2.81-2.81c.8-.78.8-2.07 0-2.86zM5.41 20L4 18.59l7.72-7.72 1.47 1.35L5.41 20z\"/>\n",
              "  </svg>\n",
              "      </button>\n",
              "      \n",
              "  <style>\n",
              "    .colab-df-container {\n",
              "      display:flex;\n",
              "      flex-wrap:wrap;\n",
              "      gap: 12px;\n",
              "    }\n",
              "\n",
              "    .colab-df-convert {\n",
              "      background-color: #E8F0FE;\n",
              "      border: none;\n",
              "      border-radius: 50%;\n",
              "      cursor: pointer;\n",
              "      display: none;\n",
              "      fill: #1967D2;\n",
              "      height: 32px;\n",
              "      padding: 0 0 0 0;\n",
              "      width: 32px;\n",
              "    }\n",
              "\n",
              "    .colab-df-convert:hover {\n",
              "      background-color: #E2EBFA;\n",
              "      box-shadow: 0px 1px 2px rgba(60, 64, 67, 0.3), 0px 1px 3px 1px rgba(60, 64, 67, 0.15);\n",
              "      fill: #174EA6;\n",
              "    }\n",
              "\n",
              "    [theme=dark] .colab-df-convert {\n",
              "      background-color: #3B4455;\n",
              "      fill: #D2E3FC;\n",
              "    }\n",
              "\n",
              "    [theme=dark] .colab-df-convert:hover {\n",
              "      background-color: #434B5C;\n",
              "      box-shadow: 0px 1px 3px 1px rgba(0, 0, 0, 0.15);\n",
              "      filter: drop-shadow(0px 1px 2px rgba(0, 0, 0, 0.3));\n",
              "      fill: #FFFFFF;\n",
              "    }\n",
              "  </style>\n",
              "\n",
              "      <script>\n",
              "        const buttonEl =\n",
              "          document.querySelector('#df-f1c764e1-f7c5-4d5c-ad6f-44133febb242 button.colab-df-convert');\n",
              "        buttonEl.style.display =\n",
              "          google.colab.kernel.accessAllowed ? 'block' : 'none';\n",
              "\n",
              "        async function convertToInteractive(key) {\n",
              "          const element = document.querySelector('#df-f1c764e1-f7c5-4d5c-ad6f-44133febb242');\n",
              "          const dataTable =\n",
              "            await google.colab.kernel.invokeFunction('convertToInteractive',\n",
              "                                                     [key], {});\n",
              "          if (!dataTable) return;\n",
              "\n",
              "          const docLinkHtml = 'Like what you see? Visit the ' +\n",
              "            '<a target=\"_blank\" href=https://colab.research.google.com/notebooks/data_table.ipynb>data table notebook</a>'\n",
              "            + ' to learn more about interactive tables.';\n",
              "          element.innerHTML = '';\n",
              "          dataTable['output_type'] = 'display_data';\n",
              "          await google.colab.output.renderOutput(dataTable, element);\n",
              "          const docLink = document.createElement('div');\n",
              "          docLink.innerHTML = docLinkHtml;\n",
              "          element.appendChild(docLink);\n",
              "        }\n",
              "      </script>\n",
              "    </div>\n",
              "  </div>\n",
              "  "
            ]
          },
          "metadata": {},
          "execution_count": 131
        }
      ]
    },
    {
      "cell_type": "markdown",
      "source": [
        "# Las variables categoricas no pueden entrar dentro de este análisis \n",
        "\n",
        "Por lo que variables como Amount of credit, age y desde  X6 a X23 son las adecuadas para analizar. \n",
        "\n",
        "Observamos que en la edad la promedio se encuentra en 35 años con una desviación stándar de 9.21 por lo que los datos se encuentran con una distribución gauseana + - 9.21 años\n",
        "\n",
        "Las medidas de tendencia centrañ es la zona en la distribución en donde hay más registros. "
      ],
      "metadata": {
        "id": "YFNn448i3o3K"
      }
    },
    {
      "cell_type": "code",
      "source": [
        "df2.describe()#Sustituyendo datos nulos con promedio "
      ],
      "metadata": {
        "colab": {
          "base_uri": "https://localhost:8080/",
          "height": 424
        },
        "id": "_a9vPYC0vlUV",
        "outputId": "b2d83dce-2b9e-4c89-eb72-50ceea7028fe"
      },
      "execution_count": 76,
      "outputs": [
        {
          "output_type": "execute_result",
          "data": {
            "text/plain": [
              "                 ID  Amount of the given credit        Gender     Education  \\\n",
              "count  30000.000000                30000.000000  29999.000000  29998.000000   \n",
              "mean   15000.500000               167484.322667      1.603753      1.853057   \n",
              "std     8660.398374               129747.661567      0.489125      0.790320   \n",
              "min        1.000000                10000.000000      1.000000      0.000000   \n",
              "25%     7500.750000                50000.000000      1.000000      1.000000   \n",
              "50%    15000.500000               140000.000000      2.000000      2.000000   \n",
              "75%    22500.250000               240000.000000      2.000000      2.000000   \n",
              "max    30000.000000              1000000.000000      2.000000      6.000000   \n",
              "\n",
              "       Marital status    Age (year)     September        August          July  \\\n",
              "count    29998.000000  29995.000000  29997.000000  29995.000000  29993.000000   \n",
              "mean         1.551903     35.484214     -0.016635     -0.133689     -0.166405   \n",
              "std          0.521968      9.218024      1.123829      1.197254      1.196048   \n",
              "min          0.000000     21.000000     -2.000000     -2.000000     -2.000000   \n",
              "25%          1.000000     28.000000     -1.000000     -1.000000     -1.000000   \n",
              "50%          2.000000     34.000000      0.000000      0.000000      0.000000   \n",
              "75%          2.000000     41.000000      0.000000      0.000000      0.000000   \n",
              "max          3.000000     79.000000      8.000000      8.000000      8.000000   \n",
              "\n",
              "               June  ...     $ Bill Jun     $ Bill May     $ Bill Apr  \\\n",
              "count  29991.000000  ...   29985.000000   29983.000000   29990.000000   \n",
              "mean      -0.220800  ...   43275.652326   40324.493980   38881.135745   \n",
              "std        1.169153  ...   64345.500073   60809.984983   59561.312967   \n",
              "min       -2.000000  ... -170000.000000  -81334.000000 -339603.000000   \n",
              "25%       -1.000000  ...    2329.000000    1763.500000    1256.250000   \n",
              "50%        0.000000  ...   19052.000000   18107.000000   17081.000000   \n",
              "75%        0.000000  ...   54560.000000   50213.000000   49208.250000   \n",
              "max        8.000000  ...  891586.000000  927171.000000  961664.000000   \n",
              "\n",
              "           $ Pay Sep     $ Pay Aug      $ Pay Jul      $ Pay Jun  \\\n",
              "count   29992.000000  2.999100e+04   29992.000000   29989.000000   \n",
              "mean     5662.945886  5.922489e+03    5225.623400    4827.252526   \n",
              "std     16564.165089  2.304418e+04   17608.422625   15668.751975   \n",
              "min         0.000000  0.000000e+00       0.000000       0.000000   \n",
              "25%      1000.000000  8.355000e+02     390.000000     296.000000   \n",
              "50%      2100.000000  2.009000e+03    1800.000000    1500.000000   \n",
              "75%      5006.000000  5.000000e+03    4505.500000    4014.000000   \n",
              "max    873552.000000  1.684259e+06  896040.000000  621000.000000   \n",
              "\n",
              "           $ Pay May      $ Pay Apr             Y  \n",
              "count   29989.000000   29995.000000  29997.000000  \n",
              "mean     4800.297209    5216.259977      0.221189  \n",
              "std     15280.842069   17778.848359      0.415054  \n",
              "min         0.000000       0.000000      0.000000  \n",
              "25%       251.000000     118.000000      0.000000  \n",
              "50%      1500.000000    1500.000000      0.000000  \n",
              "75%      4033.000000    4000.000000      0.000000  \n",
              "max    426529.000000  528666.000000      1.000000  \n",
              "\n",
              "[8 rows x 25 columns]"
            ],
            "text/html": [
              "\n",
              "  <div id=\"df-1139d21e-530c-4c27-98ec-6d6b574637b3\">\n",
              "    <div class=\"colab-df-container\">\n",
              "      <div>\n",
              "<style scoped>\n",
              "    .dataframe tbody tr th:only-of-type {\n",
              "        vertical-align: middle;\n",
              "    }\n",
              "\n",
              "    .dataframe tbody tr th {\n",
              "        vertical-align: top;\n",
              "    }\n",
              "\n",
              "    .dataframe thead th {\n",
              "        text-align: right;\n",
              "    }\n",
              "</style>\n",
              "<table border=\"1\" class=\"dataframe\">\n",
              "  <thead>\n",
              "    <tr style=\"text-align: right;\">\n",
              "      <th></th>\n",
              "      <th>ID</th>\n",
              "      <th>Amount of the given credit</th>\n",
              "      <th>Gender</th>\n",
              "      <th>Education</th>\n",
              "      <th>Marital status</th>\n",
              "      <th>Age (year)</th>\n",
              "      <th>September</th>\n",
              "      <th>August</th>\n",
              "      <th>July</th>\n",
              "      <th>June</th>\n",
              "      <th>...</th>\n",
              "      <th>$ Bill Jun</th>\n",
              "      <th>$ Bill May</th>\n",
              "      <th>$ Bill Apr</th>\n",
              "      <th>$ Pay Sep</th>\n",
              "      <th>$ Pay Aug</th>\n",
              "      <th>$ Pay Jul</th>\n",
              "      <th>$ Pay Jun</th>\n",
              "      <th>$ Pay May</th>\n",
              "      <th>$ Pay Apr</th>\n",
              "      <th>Y</th>\n",
              "    </tr>\n",
              "  </thead>\n",
              "  <tbody>\n",
              "    <tr>\n",
              "      <th>count</th>\n",
              "      <td>30000.000000</td>\n",
              "      <td>30000.000000</td>\n",
              "      <td>29999.000000</td>\n",
              "      <td>29998.000000</td>\n",
              "      <td>29998.000000</td>\n",
              "      <td>29995.000000</td>\n",
              "      <td>29997.000000</td>\n",
              "      <td>29995.000000</td>\n",
              "      <td>29993.000000</td>\n",
              "      <td>29991.000000</td>\n",
              "      <td>...</td>\n",
              "      <td>29985.000000</td>\n",
              "      <td>29983.000000</td>\n",
              "      <td>29990.000000</td>\n",
              "      <td>29992.000000</td>\n",
              "      <td>2.999100e+04</td>\n",
              "      <td>29992.000000</td>\n",
              "      <td>29989.000000</td>\n",
              "      <td>29989.000000</td>\n",
              "      <td>29995.000000</td>\n",
              "      <td>29997.000000</td>\n",
              "    </tr>\n",
              "    <tr>\n",
              "      <th>mean</th>\n",
              "      <td>15000.500000</td>\n",
              "      <td>167484.322667</td>\n",
              "      <td>1.603753</td>\n",
              "      <td>1.853057</td>\n",
              "      <td>1.551903</td>\n",
              "      <td>35.484214</td>\n",
              "      <td>-0.016635</td>\n",
              "      <td>-0.133689</td>\n",
              "      <td>-0.166405</td>\n",
              "      <td>-0.220800</td>\n",
              "      <td>...</td>\n",
              "      <td>43275.652326</td>\n",
              "      <td>40324.493980</td>\n",
              "      <td>38881.135745</td>\n",
              "      <td>5662.945886</td>\n",
              "      <td>5.922489e+03</td>\n",
              "      <td>5225.623400</td>\n",
              "      <td>4827.252526</td>\n",
              "      <td>4800.297209</td>\n",
              "      <td>5216.259977</td>\n",
              "      <td>0.221189</td>\n",
              "    </tr>\n",
              "    <tr>\n",
              "      <th>std</th>\n",
              "      <td>8660.398374</td>\n",
              "      <td>129747.661567</td>\n",
              "      <td>0.489125</td>\n",
              "      <td>0.790320</td>\n",
              "      <td>0.521968</td>\n",
              "      <td>9.218024</td>\n",
              "      <td>1.123829</td>\n",
              "      <td>1.197254</td>\n",
              "      <td>1.196048</td>\n",
              "      <td>1.169153</td>\n",
              "      <td>...</td>\n",
              "      <td>64345.500073</td>\n",
              "      <td>60809.984983</td>\n",
              "      <td>59561.312967</td>\n",
              "      <td>16564.165089</td>\n",
              "      <td>2.304418e+04</td>\n",
              "      <td>17608.422625</td>\n",
              "      <td>15668.751975</td>\n",
              "      <td>15280.842069</td>\n",
              "      <td>17778.848359</td>\n",
              "      <td>0.415054</td>\n",
              "    </tr>\n",
              "    <tr>\n",
              "      <th>min</th>\n",
              "      <td>1.000000</td>\n",
              "      <td>10000.000000</td>\n",
              "      <td>1.000000</td>\n",
              "      <td>0.000000</td>\n",
              "      <td>0.000000</td>\n",
              "      <td>21.000000</td>\n",
              "      <td>-2.000000</td>\n",
              "      <td>-2.000000</td>\n",
              "      <td>-2.000000</td>\n",
              "      <td>-2.000000</td>\n",
              "      <td>...</td>\n",
              "      <td>-170000.000000</td>\n",
              "      <td>-81334.000000</td>\n",
              "      <td>-339603.000000</td>\n",
              "      <td>0.000000</td>\n",
              "      <td>0.000000e+00</td>\n",
              "      <td>0.000000</td>\n",
              "      <td>0.000000</td>\n",
              "      <td>0.000000</td>\n",
              "      <td>0.000000</td>\n",
              "      <td>0.000000</td>\n",
              "    </tr>\n",
              "    <tr>\n",
              "      <th>25%</th>\n",
              "      <td>7500.750000</td>\n",
              "      <td>50000.000000</td>\n",
              "      <td>1.000000</td>\n",
              "      <td>1.000000</td>\n",
              "      <td>1.000000</td>\n",
              "      <td>28.000000</td>\n",
              "      <td>-1.000000</td>\n",
              "      <td>-1.000000</td>\n",
              "      <td>-1.000000</td>\n",
              "      <td>-1.000000</td>\n",
              "      <td>...</td>\n",
              "      <td>2329.000000</td>\n",
              "      <td>1763.500000</td>\n",
              "      <td>1256.250000</td>\n",
              "      <td>1000.000000</td>\n",
              "      <td>8.355000e+02</td>\n",
              "      <td>390.000000</td>\n",
              "      <td>296.000000</td>\n",
              "      <td>251.000000</td>\n",
              "      <td>118.000000</td>\n",
              "      <td>0.000000</td>\n",
              "    </tr>\n",
              "    <tr>\n",
              "      <th>50%</th>\n",
              "      <td>15000.500000</td>\n",
              "      <td>140000.000000</td>\n",
              "      <td>2.000000</td>\n",
              "      <td>2.000000</td>\n",
              "      <td>2.000000</td>\n",
              "      <td>34.000000</td>\n",
              "      <td>0.000000</td>\n",
              "      <td>0.000000</td>\n",
              "      <td>0.000000</td>\n",
              "      <td>0.000000</td>\n",
              "      <td>...</td>\n",
              "      <td>19052.000000</td>\n",
              "      <td>18107.000000</td>\n",
              "      <td>17081.000000</td>\n",
              "      <td>2100.000000</td>\n",
              "      <td>2.009000e+03</td>\n",
              "      <td>1800.000000</td>\n",
              "      <td>1500.000000</td>\n",
              "      <td>1500.000000</td>\n",
              "      <td>1500.000000</td>\n",
              "      <td>0.000000</td>\n",
              "    </tr>\n",
              "    <tr>\n",
              "      <th>75%</th>\n",
              "      <td>22500.250000</td>\n",
              "      <td>240000.000000</td>\n",
              "      <td>2.000000</td>\n",
              "      <td>2.000000</td>\n",
              "      <td>2.000000</td>\n",
              "      <td>41.000000</td>\n",
              "      <td>0.000000</td>\n",
              "      <td>0.000000</td>\n",
              "      <td>0.000000</td>\n",
              "      <td>0.000000</td>\n",
              "      <td>...</td>\n",
              "      <td>54560.000000</td>\n",
              "      <td>50213.000000</td>\n",
              "      <td>49208.250000</td>\n",
              "      <td>5006.000000</td>\n",
              "      <td>5.000000e+03</td>\n",
              "      <td>4505.500000</td>\n",
              "      <td>4014.000000</td>\n",
              "      <td>4033.000000</td>\n",
              "      <td>4000.000000</td>\n",
              "      <td>0.000000</td>\n",
              "    </tr>\n",
              "    <tr>\n",
              "      <th>max</th>\n",
              "      <td>30000.000000</td>\n",
              "      <td>1000000.000000</td>\n",
              "      <td>2.000000</td>\n",
              "      <td>6.000000</td>\n",
              "      <td>3.000000</td>\n",
              "      <td>79.000000</td>\n",
              "      <td>8.000000</td>\n",
              "      <td>8.000000</td>\n",
              "      <td>8.000000</td>\n",
              "      <td>8.000000</td>\n",
              "      <td>...</td>\n",
              "      <td>891586.000000</td>\n",
              "      <td>927171.000000</td>\n",
              "      <td>961664.000000</td>\n",
              "      <td>873552.000000</td>\n",
              "      <td>1.684259e+06</td>\n",
              "      <td>896040.000000</td>\n",
              "      <td>621000.000000</td>\n",
              "      <td>426529.000000</td>\n",
              "      <td>528666.000000</td>\n",
              "      <td>1.000000</td>\n",
              "    </tr>\n",
              "  </tbody>\n",
              "</table>\n",
              "<p>8 rows × 25 columns</p>\n",
              "</div>\n",
              "      <button class=\"colab-df-convert\" onclick=\"convertToInteractive('df-1139d21e-530c-4c27-98ec-6d6b574637b3')\"\n",
              "              title=\"Convert this dataframe to an interactive table.\"\n",
              "              style=\"display:none;\">\n",
              "        \n",
              "  <svg xmlns=\"http://www.w3.org/2000/svg\" height=\"24px\"viewBox=\"0 0 24 24\"\n",
              "       width=\"24px\">\n",
              "    <path d=\"M0 0h24v24H0V0z\" fill=\"none\"/>\n",
              "    <path d=\"M18.56 5.44l.94 2.06.94-2.06 2.06-.94-2.06-.94-.94-2.06-.94 2.06-2.06.94zm-11 1L8.5 8.5l.94-2.06 2.06-.94-2.06-.94L8.5 2.5l-.94 2.06-2.06.94zm10 10l.94 2.06.94-2.06 2.06-.94-2.06-.94-.94-2.06-.94 2.06-2.06.94z\"/><path d=\"M17.41 7.96l-1.37-1.37c-.4-.4-.92-.59-1.43-.59-.52 0-1.04.2-1.43.59L10.3 9.45l-7.72 7.72c-.78.78-.78 2.05 0 2.83L4 21.41c.39.39.9.59 1.41.59.51 0 1.02-.2 1.41-.59l7.78-7.78 2.81-2.81c.8-.78.8-2.07 0-2.86zM5.41 20L4 18.59l7.72-7.72 1.47 1.35L5.41 20z\"/>\n",
              "  </svg>\n",
              "      </button>\n",
              "      \n",
              "  <style>\n",
              "    .colab-df-container {\n",
              "      display:flex;\n",
              "      flex-wrap:wrap;\n",
              "      gap: 12px;\n",
              "    }\n",
              "\n",
              "    .colab-df-convert {\n",
              "      background-color: #E8F0FE;\n",
              "      border: none;\n",
              "      border-radius: 50%;\n",
              "      cursor: pointer;\n",
              "      display: none;\n",
              "      fill: #1967D2;\n",
              "      height: 32px;\n",
              "      padding: 0 0 0 0;\n",
              "      width: 32px;\n",
              "    }\n",
              "\n",
              "    .colab-df-convert:hover {\n",
              "      background-color: #E2EBFA;\n",
              "      box-shadow: 0px 1px 2px rgba(60, 64, 67, 0.3), 0px 1px 3px 1px rgba(60, 64, 67, 0.15);\n",
              "      fill: #174EA6;\n",
              "    }\n",
              "\n",
              "    [theme=dark] .colab-df-convert {\n",
              "      background-color: #3B4455;\n",
              "      fill: #D2E3FC;\n",
              "    }\n",
              "\n",
              "    [theme=dark] .colab-df-convert:hover {\n",
              "      background-color: #434B5C;\n",
              "      box-shadow: 0px 1px 3px 1px rgba(0, 0, 0, 0.15);\n",
              "      filter: drop-shadow(0px 1px 2px rgba(0, 0, 0, 0.3));\n",
              "      fill: #FFFFFF;\n",
              "    }\n",
              "  </style>\n",
              "\n",
              "      <script>\n",
              "        const buttonEl =\n",
              "          document.querySelector('#df-1139d21e-530c-4c27-98ec-6d6b574637b3 button.colab-df-convert');\n",
              "        buttonEl.style.display =\n",
              "          google.colab.kernel.accessAllowed ? 'block' : 'none';\n",
              "\n",
              "        async function convertToInteractive(key) {\n",
              "          const element = document.querySelector('#df-1139d21e-530c-4c27-98ec-6d6b574637b3');\n",
              "          const dataTable =\n",
              "            await google.colab.kernel.invokeFunction('convertToInteractive',\n",
              "                                                     [key], {});\n",
              "          if (!dataTable) return;\n",
              "\n",
              "          const docLinkHtml = 'Like what you see? Visit the ' +\n",
              "            '<a target=\"_blank\" href=https://colab.research.google.com/notebooks/data_table.ipynb>data table notebook</a>'\n",
              "            + ' to learn more about interactive tables.';\n",
              "          element.innerHTML = '';\n",
              "          dataTable['output_type'] = 'display_data';\n",
              "          await google.colab.output.renderOutput(dataTable, element);\n",
              "          const docLink = document.createElement('div');\n",
              "          docLink.innerHTML = docLinkHtml;\n",
              "          element.appendChild(docLink);\n",
              "        }\n",
              "      </script>\n",
              "    </div>\n",
              "  </div>\n",
              "  "
            ]
          },
          "metadata": {},
          "execution_count": 76
        }
      ]
    },
    {
      "cell_type": "markdown",
      "source": [
        "## 5) Realiza el conteo de las variables categóricas"
      ],
      "metadata": {
        "id": "rWI3zg1R6Yzv"
      }
    },
    {
      "cell_type": "code",
      "source": [
        "datos_cat = [\n",
        "    'Gender',\n",
        "    'Marital status',\n",
        "    'Education',\n",
        "\n",
        "]\n",
        "\n",
        "\n",
        "for c in datos_cat:\n",
        "  print(df[c].value_counts().to_frame())\n"
      ],
      "metadata": {
        "colab": {
          "base_uri": "https://localhost:8080/"
        },
        "id": "jRhmfm7Q5uxB",
        "outputId": "e524ce3a-51ac-47ff-d5e6-de5aba110aa3"
      },
      "execution_count": 139,
      "outputs": [
        {
          "output_type": "stream",
          "name": "stdout",
          "text": [
            "     Gender\n",
            "2.0   18095\n",
            "1.0   11863\n",
            "     Marital status\n",
            "2.0           15939\n",
            "1.0           13643\n",
            "3.0             322\n",
            "0.0              54\n",
            "     Education\n",
            "2.0      14009\n",
            "1.0      10572\n",
            "3.0       4909\n",
            "5.0        280\n",
            "4.0        123\n",
            "6.0         51\n",
            "0.0         14\n"
          ]
        }
      ]
    },
    {
      "cell_type": "code",
      "source": [
        "dadata = df.loc[df[\"Marital status\"] != 0]\n",
        "print(df[\"Marital status\"].value_counts().to_frame())"
      ],
      "metadata": {
        "colab": {
          "base_uri": "https://localhost:8080/"
        },
        "id": "tK2RR9ieSoD6",
        "outputId": "613b8e4e-94bc-44d7-c26b-1667228b946f"
      },
      "execution_count": 169,
      "outputs": [
        {
          "output_type": "stream",
          "name": "stdout",
          "text": [
            "     Marital status\n",
            "2.0           15939\n",
            "1.0           13643\n",
            "3.0             322\n",
            "0.0              54\n"
          ]
        }
      ]
    },
    {
      "cell_type": "code",
      "source": [
        "datos_num = ['Amount of the given credit','September', 'Age (year)'\n",
        "                     'August',\n",
        "                     'July',\n",
        "                     'June',\n",
        "                     'May',\n",
        "                     'Abril',\n",
        "                     '$ Bill Sep', \n",
        "                     '$ Bill Aug',\n",
        "                     '$ Bill Jul',\n",
        "                     '$ Bill Jun',\n",
        "                     '$ Bill May',\n",
        "                     '$ Bill Apr',\n",
        "                     '$ Pay Sep', \n",
        "                     '$ Pay Aug',\n",
        "                     '$ Pay Jul',\n",
        "                     '$ Pay Jun',\n",
        "                     '$ Pay May',\n",
        "                     '$ Pay Apr']\n",
        "datos_bin = ['Y']"
      ],
      "metadata": {
        "id": "ykWx1Xcw9GTe"
      },
      "execution_count": 147,
      "outputs": []
    },
    {
      "cell_type": "code",
      "source": [
        "sns.set(rc={\"figure.figsize\": (17, 12)})\n",
        "# Crea el espacio de trabajo como una matriz de 3 x 4 para acomodar las 10 variables\n",
        "fig, axes = plt.subplots(4, 5)\n",
        "# Espacio entre gráficas\n",
        "fig.tight_layout(h_pad=5.0)\n",
        "\n",
        "# Grafica los histogramas uno por uno\n",
        "for k in range(0, 20):\n",
        "    # Posición sequencial. Van de 1 a 10 en este caso (no 0)\n",
        "    plt.subplot(4, 5, k + 1)\n",
        "    # Número de valores diferentes.\n",
        "    buckets = df.iloc[:, k].nunique()\n",
        "    # Si el número de valores es mayor de 10, declara el número de buckets como 15\n",
        "    # si es <=10 usa ese número de buckets\n",
        "    if buckets > 20:\n",
        "        buckets = 25\n",
        "    # Crea el histograma\n",
        "    df.iloc[:, k].hist(bins=buckets)\n",
        "    # Nombra el eje X de acuerdo a la columna que está siendo visualizada\n",
        "    plt.xlabel(df.columns[k])\n",
        "# Despliega la figura con las 10 gráficas\n",
        "plt.show()"
      ],
      "metadata": {
        "colab": {
          "base_uri": "https://localhost:8080/",
          "height": 885
        },
        "id": "MHqNejPv93Vj",
        "outputId": "37527b3d-b92b-44ea-fbd6-e51edf364d7c"
      },
      "execution_count": 124,
      "outputs": [
        {
          "output_type": "display_data",
          "data": {
            "text/plain": [
              "<Figure size 1224x864 with 20 Axes>"
            ],
            "image/png": "[encoded data removed]"
          },
          "metadata": {}
        }
      ]
    },
    {
      "cell_type": "code",
      "source": [
        "from sklearn.preprocessing import MinMaxScaler\n",
        "scaler = MinMaxScaler()\n",
        "print(scaler.fit(df))\n",
        "MinMaxScaler()\n",
        "print(scaler.data_max_)"
      ],
      "metadata": {
        "colab": {
          "base_uri": "https://localhost:8080/"
        },
        "id": "gI1nyVwzM9CW",
        "outputId": "175396f6-6dd4-4c18-c7c7-a9b720bfe866"
      },
      "execution_count": 162,
      "outputs": [
        {
          "output_type": "stream",
          "name": "stdout",
          "text": [
            "MinMaxScaler()\n",
            "[3.000000e+04 1.000000e+06 2.000000e+00 6.000000e+00 3.000000e+00\n",
            " 7.900000e+01 8.000000e+00 8.000000e+00 8.000000e+00 8.000000e+00\n",
            " 8.000000e+00 8.000000e+00 9.645110e+05 9.839310e+05 1.664089e+06\n",
            " 8.915860e+05 9.271710e+05 9.616640e+05 8.735520e+05 1.684259e+06\n",
            " 8.960400e+05 6.210000e+05 4.265290e+05 5.286660e+05 1.000000e+00]\n"
          ]
        }
      ]
    },
    {
      "cell_type": "code",
      "source": [
        "for v in datos_cat+datos_bin: #datos.columns:\n",
        "    print(v)\n",
        "    print(df[v].unique())\n",
        "    print(\"-----\")"
      ],
      "metadata": {
        "colab": {
          "base_uri": "https://localhost:8080/"
        },
        "id": "g0bQdyJsNQ0n",
        "outputId": "6f84d0a3-966b-42ca-f9c2-23d7d6225e7b"
      },
      "execution_count": 154,
      "outputs": [
        {
          "output_type": "stream",
          "name": "stdout",
          "text": [
            "Gender\n",
            "[2. 1.]\n",
            "-----\n",
            "Marital status\n",
            "[1. 2. 3. 0.]\n",
            "-----\n",
            "Education\n",
            "[2. 1. 3. 5. 4. 6. 0.]\n",
            "-----\n",
            "Y\n",
            "[1. 0.]\n",
            "-----\n"
          ]
        }
      ]
    },
    {
      "cell_type": "code",
      "source": [
        "cat_pipeline = Pipeline(\n",
        "    steps=[\n",
        "        (\"impModa\", SimpleImputer(strategy=\"most_frequent\")),\n",
        "        (\"OneHotE\", OneHotEncoder(handle_unknown=\"ignore\")),\n",
        "    ]\n",
        ")\n",
        "cat_pipeline_nombres = datos_cat\n",
        "num_pipeline = Pipeline(\n",
        "    steps=[\n",
        "        (\"impMediana\", SimpleImputer(strategy=\"median\")),\n",
        "        (\"Box-Cox\", PowerTransformer(method=\"box-cox\")),\n",
        "        (\"escalaNum\", MinMaxScaler()),\n",
        "    ]\n",
        ")\n",
        "num_pipeline_nombres = datos_num\n",
        "\n",
        "bin_pipeline_nombres = datos_bin\n",
        "\n",
        "\n",
        "columnasTransformer = ColumnTransformer(\n",
        "    transformers=[\n",
        "        (\"catpipe\", cat_pipeline, cat_pipeline_nombres + bin_pipeline_nombres),\n",
        "        (\"numpipe\", num_pipeline, num_pipeline_nombres),\n",
        "        \n",
        "    ],\n",
        "    remainder=\"passthrough\",\n",
        ")"
      ],
      "metadata": {
        "id": "EqwIp3b7DWxF"
      },
      "execution_count": 149,
      "outputs": []
    }
  ]
}